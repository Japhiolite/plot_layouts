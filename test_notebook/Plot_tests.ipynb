{
 "cells": [
  {
   "cell_type": "markdown",
   "metadata": {},
   "source": [
    "# Plot themes/layouts for short: \"Disspap\" \n",
    "\n",
    "This notebook will be used for visualizing the different plot types I'll use and compile in papers and my thesis. After figuring, that I repeatedly write similar code for plotting my results, I decided to just compile them in functions for facilitating my work.  \n",
    "And it is a hassle to look up the same things again and again..."
   ]
  },
  {
   "cell_type": "code",
   "execution_count": 4,
   "metadata": {},
   "outputs": [],
   "source": [
    "# import libraries\n",
    "import numpy as np\n",
    "import matplotlib.pyplot as plt\n",
    "%matplotlib inline\n",
    "\n",
    "import seaborn as sns"
   ]
  },
  {
   "cell_type": "code",
   "execution_count": 30,
   "metadata": {},
   "outputs": [
    {
     "data": {
      "image/png": "[encoded data removed]",
      "text/plain": [
       "<matplotlib.figure.Figure at 0xc2e9128>"
      ]
     },
     "metadata": {},
     "output_type": "display_data"
    }
   ],
   "source": [
    "# colors I use in my work - to be extended, or simply use https://www.webucator.com/blog/2015/03/python-color-constants-module/\n",
    "def colors_palette():\n",
    "    return np.array([\n",
    "        [0.1, 0.1, 0.1],          # black\n",
    "        [0.3, 0.3, 0.3],          # dark gray\n",
    "        [0.6, 0.6, 0.6],          # gray\n",
    "        [0.8, 0.8, 0.8],          # light gray\n",
    "        [1.0, 0.827, 0.067],      # dark yellow\n",
    "        [0.698, 0.063, 0.02],     # dark red\n",
    "        [0.004, 0.6, 0.153],      # dark green\n",
    "        [0.2, 0.666, 0.866],      # medium light blue\n",
    "        [0.024, 0.412, 0.64]      # dark blue\n",
    "    ])\n",
    "sns.palplot(colors_palette())"
   ]
  }
 ],
 "metadata": {
  "hide_input": false,
  "kernelspec": {
   "display_name": "Python 3",
   "language": "python",
   "name": "python3"
  },
  "language_info": {
   "codemirror_mode": {
    "name": "ipython",
    "version": 3
   },
   "file_extension": ".py",
   "mimetype": "text/x-python",
   "name": "python",
   "nbconvert_exporter": "python",
   "pygments_lexer": "ipython3",
   "version": "3.6.0"
  },
  "latex_envs": {
   "LaTeX_envs_menu_present": true,
   "autocomplete": true,
   "bibliofile": "biblio.bib",
   "cite_by": "apalike",
   "current_citInitial": 1,
   "eqLabelWithNumbers": true,
   "eqNumInitial": 1,
   "hotkeys": {
    "equation": "Ctrl-E",
    "itemize": "Ctrl-I"
   },
   "labels_anchors": false,
   "latex_user_defs": false,
   "report_style_numbering": false,
   "user_envs_cfg": false
  }
 },
 "nbformat": 4,
 "nbformat_minor": 2
}
